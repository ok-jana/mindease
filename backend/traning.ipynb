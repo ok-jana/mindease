{
 "cells": [
  {
   "cell_type": "markdown",
   "metadata": {},
   "source": [
    "#### CLEANING DATA"
   ]
  },
  {
   "cell_type": "code",
   "execution_count": null,
   "metadata": {},
   "outputs": [],
   "source": [
    "import pandas as pd\n",
    "import numpy as np\n",
    "import cupy as cp\n",
    "import re\n",
    "import nltk\n",
    "from nltk.corpus import stopwords\n",
    "from sklearn.feature_extraction.text import TfidfVectorizer\n",
    "from sklearn.model_selection import train_test_split\n",
    "from sklearn.preprocessing import LabelEncoder\n",
    "\n",
    "\n",
    "nltk.download('stopwords')\n",
    "stop_words = set(stopwords.words(\"english\"))\n",
    "\n",
    "\n",
    "df = pd.read_csv(\"newtrain.csv\")\n",
    "\n",
    "\n",
    "def clean_text(text):\n",
    "    text = str(text).lower()  \n",
    "    text = re.sub(r\"http\\S+|www\\S+\", \"\", text)  \n",
    "    text = re.sub(r\"\\d+\", \"\", text)  \n",
    "    text = re.sub(r\"[^\\w\\s]\", \"\", text)  \n",
    "    return text\n",
    "\n",
    "\n",
    "df[\"cleaned_text\"] = df[\"text\"].apply(clean_text)\n",
    "label_encoder = LabelEncoder()\n",
    "df[\"sentiment\"] = label_encoder.fit_transform(df[\"sentiment\"])\n",
    "\n",
    "\n",
    "vectorizer = TfidfVectorizer(ngram_range=(1,2), max_features=3000)\n",
    "X = vectorizer.fit_transform(df[\"cleaned_text\"]).toarray()\n",
    "y = df[\"sentiment\"].to_numpy()\n",
    "\n",
    "\n",
    "X_train, X_test, y_train, y_test = train_test_split(X, y, train_size=0.80, test_size=0.20, random_state=0)\n",
    "\n",
    "# Move data to GPU\n",
    "X_train = cp.array(X_train, dtype=cp.float64)  \n",
    "X_test = cp.array(X_test, dtype=cp.float64)  \n",
    "y_train = cp.array(y_train, dtype=cp.int64)  \n",
    "y_test = cp.array(y_test, dtype=cp.int64)"
   ]
  },
  {
   "cell_type": "markdown",
   "metadata": {},
   "source": [
    "### Traning using SVM"
   ]
  },
  {
   "cell_type": "code",
   "execution_count": null,
   "metadata": {},
   "outputs": [],
   "source": [
    "from cuml.svm import LinearSVC\n",
    "from cuml.metrics import accuracy_score\n",
    "\n",
    "svm_model = LinearSVC()\n",
    "svm_model.fit(X_train, y_train)\n",
    "y_pred_svm = svm_model.predict(X_test)\n",
    "accuracy_svm = round(accuracy_score(y_test, y_pred_svm) * 100, 2)\n",
    "print(\"SVM (GPU) Accuracy:\", accuracy_svm)"
   ]
  },
  {
   "cell_type": "markdown",
   "metadata": {},
   "source": [
    "### Converting the GPU trained model back to cpu based\n",
    "- so that it can run on low end systems"
   ]
  },
  {
   "cell_type": "code",
   "execution_count": null,
   "metadata": {},
   "outputs": [],
   "source": [
    "from sklearn.svm import LinearSVC\n",
    "\n",
    "def convert_cuml_to_sklearn(cuml_model):\n",
    "    sklearn_model = LinearSVC(C=cuml_model.C)\n",
    "    sklearn_model.coef_ = cuml_model.coef_.get()  \n",
    "    sklearn_model.intercept_ = cuml_model.intercept_.get()\n",
    "\n",
    "    return sklearn_model\n",
    "\n",
    "cpu_model = convert_cuml_to_sklearn(svm_model)\n",
    "print(\"Converted and saved as CPU-compatible model.\")"
   ]
  },
  {
   "cell_type": "markdown",
   "metadata": {},
   "source": [
    "### Saving the model"
   ]
  },
  {
   "cell_type": "code",
   "execution_count": null,
   "metadata": {},
   "outputs": [],
   "source": [
    "import pickle\n",
    "# Save best model to a pickle file\n",
    "filename = \"svm_model.pkl\"\n",
    "with open(filename, \"wb\") as f:\n",
    "    pickle.dump(cpu_model, f)\n",
    "\n",
    "save_filename = \"tfidf_vectorizer.pkl\"\n",
    "with open(save_filename, \"wb\") as f:\n",
    "    pickle.dump(vectorizer, f)\n",
    "\n",
    "print(f\"Model and vectorizer saved to {save_filename}\")"
   ]
  }
 ],
 "metadata": {
  "kernelspec": {
   "display_name": "Python 3",
   "language": "python",
   "name": "python3"
  },
  "language_info": {
   "codemirror_mode": {
    "name": "ipython",
    "version": 3
   },
   "file_extension": ".py",
   "mimetype": "text/x-python",
   "name": "python",
   "nbconvert_exporter": "python",
   "pygments_lexer": "ipython3",
   "version": "3.10.7"
  }
 },
 "nbformat": 4,
 "nbformat_minor": 4
}
